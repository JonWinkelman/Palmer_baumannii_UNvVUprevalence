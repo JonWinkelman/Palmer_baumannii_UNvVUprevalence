{
 "cells": [
  {
   "cell_type": "code",
   "execution_count": 1,
   "id": "ff30ab8c-8095-4578-9096-d4708c7c5218",
   "metadata": {
    "tags": []
   },
   "outputs": [],
   "source": [
    "from orthofinder_utils import dash_ortho_parser as dop\n",
    "from orthofinder_utils import itol_annotations as itol_annot\n",
    "from jw_utils import parse_gff as pgf\n",
    "from jw_utils import parse_fasta as pfa\n",
    "import os\n",
    "import pandas as pd\n",
    "import json\n",
    "from Bio import Phylo\n",
    "import shutil\n",
    "import plotly.graph_objects as go\n",
    "from jw_utils import plotly_preferences as pprefs"
   ]
  },
  {
   "cell_type": "code",
   "execution_count": 2,
   "id": "70c286aa-73bd-4669-b1be-ea9f0bf5e67f",
   "metadata": {
    "tags": []
   },
   "outputs": [],
   "source": [
    "rgb_to_hex = {'rgba(132,137,145,1)':'#848991',\n",
    " 'rgb(0,208,132)':'#00d084',\n",
    " 'rgb(0,122,255)':'#007aff',\n",
    " 'rgb(171,184,195)':'#abb8c3',\n",
    " 'rgb(255,105,0)':'#ff6900',\n",
    " 'rgb(252,185,0)':'#fcb900',\n",
    " 'rgb(123,220,181)':'#7bdcb5',\n",
    " 'rgb(142,209,252)':'#8ed1fc',\n",
    " 'rgb(6,147,227)':'#0693e3',\n",
    " 'rgb(155,81,224)':'#9b51e0',\n",
    " 'rgb(207,46,46)':'#cf2e2e',\n",
    " 'rgb(247,141,167)':'#f78da7'}\n",
    "\n",
    "hex_colors = list(rgb_to_hex.values())"
   ]
  },
  {
   "cell_type": "code",
   "execution_count": 3,
   "id": "81fe315f-ba77-448d-8c72-80aebd42a9d8",
   "metadata": {
    "tags": []
   },
   "outputs": [
    {
     "data": {
      "text/plain": [
       "'Acinetobacter baumannii K09-14'"
      ]
     },
     "execution_count": 3,
     "metadata": {},
     "output_type": "execute_result"
    }
   ],
   "source": [
    "dop_obj = dop.DashOrthoParser('./data',tax_level='N3')\n",
    "dop_obj.accession_to_name['GCF_008632635.1']"
   ]
  },
  {
   "cell_type": "code",
   "execution_count": 4,
   "id": "6bff8f7a-e22e-4769-84be-bc1071cd08dc",
   "metadata": {
    "tags": []
   },
   "outputs": [],
   "source": [
    "def get_nearby_genes_in_cluster():\n",
    "    \"\"\"\"\"\"\n",
    "    genes = []\n",
    "    base = 'KZA74_0'\n",
    "    p2g_d = pgf.make_gene2prot_dict('./data/ncbi_dataset/data/GCA_019356215.1/genomic.gff')\n",
    "    cluster_proteins = []\n",
    "    for i in range(9240,9410, 5):\n",
    "        gene = base+str(i)\n",
    "        genes.append(gene)\n",
    "        cluster_proteins.append(p2g_d.get('gene-'+gene))\n",
    "    prot_to_HOG_d_all = dop_obj.gene_HOG_dict('GCA_019356215.1')\n",
    "    gene_to_HOG_d = {\n",
    "        prot:prot_to_HOG_d_all.get(prot.strip('cds-')) for prot in cluster_proteins\n",
    "        if prot_to_HOG_d_all.get(prot.strip('cds-'))\n",
    "        }\n",
    "    return gene_to_HOG_d\n",
    " \n",
    "\n",
    "gene_to_HOG_d = get_nearby_genes_in_cluster()  \n",
    "HOGs_to_gene_d = {v:k for k,v in gene_to_HOG_d.items()}"
   ]
  },
  {
   "cell_type": "markdown",
   "id": "be540f62-a849-4377-8e77-c1043d340035",
   "metadata": {
    "tags": []
   },
   "source": [
    "### Make itol annotation file for presence/absence of genes in cluster Accessory gene cluster 44 kb"
   ]
  },
  {
   "cell_type": "code",
   "execution_count": 5,
   "id": "80daf0de-ac58-4201-8e58-b5ad9d88e050",
   "metadata": {
    "tags": []
   },
   "outputs": [],
   "source": [
    "tree = Phylo.read('./data/Species_Tree/SpeciesTree_rooted_node_labels.txt', format='newick')\n",
    "HOG_list, binary_count_dict = itol_annot.make_binary_count_dict(tree, gene_to_HOG_d.values(), dop_obj)"
   ]
  },
  {
   "cell_type": "code",
   "execution_count": 6,
   "id": "4d46af72-99a7-4cae-9601-66a1267b5901",
   "metadata": {
    "tags": []
   },
   "outputs": [],
   "source": [
    "diverging_colors = [\n",
    "    # \"#4E79A7\", \"#A0CBE8\", \"#F28E2B\", \"#FFBE7D\", \"#59A14F\",\n",
    "    # \"#8CD17D\", \"#B6992D\", \"#FDCB9E\", \"#499894\", \"#86BCB6\",\n",
    "    \"#E15759\", \"#FF9D9A\", \"#79706E\", \"#BAB0AC\", \"#D37295\",\n",
    "    \"#FABFD2\", \"#B07AA1\", \"#D4A5A5\", \"#F7F7F7\", \"#CCCCCC\",\n",
    "    \"#0072B2\", \"#009E73\", \"#D55E00\", \"#CC79A7\", \"#56B4E9\",\n",
    "    \"#009E73\", \"#F0E442\", \"#0072B2\", \"#D55E00\", \"#CC79A7\",\n",
    "    \"#56B4E9\", \"#009E73\", \"#F0E442\", \"#0072B2\", \"#D55E00\",\n",
    "    \"#CC79A7\", \"#56B4E9\", \"#009E73\", \"#F0E442\", \"#0072B2\",\n",
    "    \"#D55E00\", \"#CC79A7\", \"#56B4E9\", \"#009E73\", \"#F0E442\",\n",
    "    \"#0072B2\", \"#D55E00\", \"#CC79A7\", \"#56B4E9\", \"#009E73\"\n",
    "]"
   ]
  },
  {
   "cell_type": "code",
   "execution_count": 7,
   "id": "300e5f42-f826-4dd9-b1c9-77b76f40e14b",
   "metadata": {},
   "outputs": [],
   "source": [
    "name_list = [HOGs_to_gene_d[HOG] for HOG in HOG_list]\n",
    "itol_annot.make_multi_itol_bargraph_dataset('./itol_dataset_multi.txt',binary_count_dict, name_list,hexcolors=diverging_colors)"
   ]
  },
  {
   "cell_type": "code",
   "execution_count": 8,
   "id": "88849279-ea20-463d-a6a2-652b836cffad",
   "metadata": {
    "tags": []
   },
   "outputs": [],
   "source": [
    "relabel_dict = {acc:name.replace('Acinetobacter','A.') for acc, name in dop_obj.accession_to_name.items()}\n",
    "itol_annot.relabel_itol_treeleafs(tree, relabel_dict, './itol_annotations_relabel.txt')"
   ]
  },
  {
   "cell_type": "markdown",
   "id": "1d5ca794-f3fd-486b-a161-feaec3d721de",
   "metadata": {},
   "source": [
    "### make itol UN vs VU allele annotation file for genes of interest"
   ]
  },
  {
   "cell_type": "code",
   "execution_count": 11,
   "id": "6d689421-980d-493c-b2be-53487a214691",
   "metadata": {
    "tags": []
   },
   "outputs": [],
   "source": [
    "LP_acc = dop_obj.name_to_accession['Acinetobacter baumannii ATCC 17978-mff']\n",
    "gene_d = dop_obj.gene_HOG_dict(LP_acc)\n",
    "gene_2_prot_d = pgf.make_gene2prot_dict(f'./data/ncbi_dataset/data/{LP_acc}/genomic.gff')\n",
    "gene_ortho_d = {}\n"
   ]
  },
  {
   "cell_type": "code",
   "execution_count": 12,
   "id": "d324f240-e01e-4c28-8a66-cdf8fcc73b77",
   "metadata": {
    "tags": []
   },
   "outputs": [
    {
     "data": {
      "text/plain": [
       "{'ACX60_07925': 'N3.HOG0001797',\n",
       " 'ACX60_00950': 'N3.HOG0000757',\n",
       " 'ACX60_05080': 'N3.HOG0002063',\n",
       " 'ACX60_10365': 'N3.HOG0001220',\n",
       " 'ACX60_05695': 'N3.HOG0001748',\n",
       " 'ACX60_11495': 'N3.HOG0003331'}"
      ]
     },
     "execution_count": 12,
     "metadata": {},
     "output_type": "execute_result"
    }
   ],
   "source": [
    "genes_to_check = {'ACX60_00950','ACX60_05080', 'ACX60_07925', 'ACX60_10365','ACX60_11495', 'ACX60_05695'}\n",
    "#removed 'ACX60_05895' from genes_to_check\n",
    "for gene in genes_to_check:\n",
    "    prot = gene_2_prot_d['gene-'+gene]\n",
    "    gene_ortho_d[gene] = gene_d[prot.strip('cds-')] \n",
    "gene_ortho_d"
   ]
  },
  {
   "cell_type": "code",
   "execution_count": 12,
   "id": "2643509f-7ff1-4770-af73-a6b99be58595",
   "metadata": {
    "tags": []
   },
   "outputs": [],
   "source": [
    "def make_fasta_files(gene_ortho_d, output_dir):\n",
    "    \"\"\"\"\"\"\n",
    "    if not os.path.exists(output_dir):  \n",
    "        os.makedirs(output_dir)   \n",
    "    for HOG in gene_ortho_d.values():\n",
    "        fasta_d = dop_obj.get_HOG_protein_seqs(HOG)['Protein_seq'].to_dict()\n",
    "        pfa.write_to_fasta(fasta_d,f'{output_dir}/{HOG}.faa')\n",
    "output_dir  = './UN_vs_VU_variants/fasta_files'\n",
    "make_fasta_files(gene_ortho_d=gene_ortho_d, output_dir= output_dir)"
   ]
  },
  {
   "cell_type": "markdown",
   "id": "a2d0be65-bd7f-4266-baa3-3fa007b05ac5",
   "metadata": {
    "tags": []
   },
   "source": [
    "### Align protein seqs from each HOG of interest with muscle"
   ]
  },
  {
   "cell_type": "markdown",
   "id": "c9a42667-247b-4ef5-ad7b-e6ac7df91004",
   "metadata": {},
   "source": [
    "bash script for running muscle on all .faa file in dir  \n",
    "`$ cd dir/with/fastas`  \n",
    "```\n",
    "for file in ./*.faa;  \n",
    "    do    \n",
    "    base=\"${file%.faa}\"  \n",
    "    out_file=${base}.afa   \n",
    "    echo $out_file   \n",
    "    muscle -align $file -output $out_file;   \n",
    "    done\n",
    "```"
   ]
  },
  {
   "cell_type": "code",
   "execution_count": 13,
   "id": "a8014cdc-b8c4-419d-b0cf-92da74f9b9e7",
   "metadata": {
    "tags": []
   },
   "outputs": [
    {
     "name": "stdout",
     "output_type": "stream",
     "text": [
      "/bin/bash: muscle: command not found\n",
      "/bin/bash: muscle: command not found\n",
      "/bin/bash: muscle: command not found\n",
      "/bin/bash: muscle: command not found\n",
      "/bin/bash: muscle: command not found\n",
      "/bin/bash: muscle: command not found\n"
     ]
    }
   ],
   "source": [
    "def make_HOG_protein_align_files(gene_ortho_d, output_dir):\n",
    "    if not os.path.exists(output_dir):  \n",
    "        os.makedirs(output_dir)\n",
    "    for HOG in gene_ortho_d.values():\n",
    "        df = dop_obj.get_HOG_protein_seqs(HOG)\n",
    "        d = {prot_id:seq for prot_id,seq in zip(df.index, df['Protein_seq'])}\n",
    "        pfa.write_to_fasta(d,f'{output_dir}/{HOG}.faa')\n",
    "        input_file = f'{output_dir}/{HOG}.faa'\n",
    "        output_file = input_file.replace('faa', 'afa')\n",
    "        !muscle -in $input_file -out $output_file \n",
    "\n",
    "#make_HOG_protein_align_files(gene_ortho_d=gene_ortho_d, output_dir=output_dir)"
   ]
  },
  {
   "cell_type": "code",
   "execution_count": 14,
   "id": "0e5fcd6d-c291-4776-9870-b297811ac0fa",
   "metadata": {
    "tags": []
   },
   "outputs": [
    {
     "data": {
      "text/plain": [
       "{'ACX60_07925': {'VU': 228, 'UN': 1, 'Other': 0},\n",
       " 'ACX60_00950': {'VU': 229, 'UN': 1, 'Other': 0},\n",
       " 'ACX60_05080': {'VU': 227, 'UN': 1, 'Other': 0},\n",
       " 'ACX60_10365': {'VU': 2, 'UN': 228, 'Other': 0},\n",
       " 'ACX60_05695': {'VU': 204, 'UN': 1, 'Other': 24},\n",
       " 'ACX60_11495': {'VU': 184, 'UN': 1, 'Other': 0}}"
      ]
     },
     "execution_count": 14,
     "metadata": {},
     "output_type": "execute_result"
    }
   ],
   "source": [
    "gene_var_d = {\n",
    " 'ACX60_00950': {'VU':'A382', 'UN':'T382'},\n",
    " 'ACX60_07925': {'VU':'M78', 'UN':'T78'},\n",
    " 'ACX60_05695': {'VU':'G12', 'UN':'D12'},\n",
    " 'ACX60_11495': {'VU':'T2', 'UN':'K2'},\n",
    " 'ACX60_05080': {'VU':'N258', 'UN':'I258'},\n",
    " 'ACX60_10365': {'VU':'F806', 'UN':'V806'}, ## gaps in alignment unaligned 17978-mff = position 799\n",
    "}\n",
    "\n",
    "#################################################################################### \n",
    "# 1 means VU variant,0 means UN variant, -1 means neither variant or absent altogether\n",
    "####################################################################################\n",
    "all_leafnames = [cl.name for cl in tree.get_terminals()]\n",
    "variants_tally  = {}\n",
    "d_nested = {gene:{} for gene in gene_ortho_d}\n",
    "count_d = {gene:{} for gene in gene_var_d}\n",
    "for gene, HOG in gene_ortho_d.items():\n",
    "    VU_var = gene_var_d[gene]['VU']\n",
    "    UN_var = gene_var_d[gene]['UN']\n",
    "    d = pfa.get_seq_dict(f'./UN_vs_VU_variants/fasta_files/{HOG}.afa')\n",
    "    VU_tally = 0 \n",
    "    UN_tally = 0 \n",
    "    other_tally = 0\n",
    "    acc_prot_d = {p[:15][::-1].replace('_','.',1)[::-1]:p[16:] for p in list(d.keys())}\n",
    "    #for protein in d:\n",
    "    for acc in all_leafnames:\n",
    "        if not acc_prot_d.get(acc):\n",
    "            acc = acc[:-2] +'_' + acc[-1]\n",
    "            count_d[gene][acc] = -1\n",
    "        else:\n",
    "            protein =  acc[::-1].replace('.','_',1)[::-1]+'_'+ acc_prot_d[acc]\n",
    "            pos =  int(VU_var[1:])-1\n",
    "            var = d[protein][pos]\n",
    "            #print(gene, var, 'UN',UN_var[0], 'VU', VU_var[0])\n",
    "            if var == VU_var[0]:\n",
    "                VU_tally +=1\n",
    "                count_d[gene][protein] = 1\n",
    "            elif var ==  UN_var[0]:\n",
    "                UN_tally +=1\n",
    "                count_d[gene][protein] = 0\n",
    "            else:\n",
    "                #print(HOG,protein, var)\n",
    "                other_tally += 1\n",
    "                count_d[gene][protein] = -1\n",
    "            \n",
    "    variants_tally[gene] = {'VU':VU_tally, 'UN': UN_tally, 'Other': other_tally}\n",
    "variants_tally"
   ]
  },
  {
   "cell_type": "code",
   "execution_count": 17,
   "id": "630a0716-8d00-4d15-af64-95626e88422f",
   "metadata": {
    "tags": []
   },
   "outputs": [],
   "source": [
    "def add_clsC2_to_dict():\n",
    "    \"\"\"\"\"\"\n",
    "    count_d['clsC2'] = {}\n",
    "    clsC2_prots = dop_obj.all_prots_in_HOG('N3.HOG0003090')\n",
    "    for acc in all_leafnames:\n",
    "        acc = acc[::-1].replace('.','_',1)[::-1]\n",
    "        count_d['clsC2'][acc] = 0 \n",
    "    for acc in all_leafnames:\n",
    "        for prot in clsC2_prots:\n",
    "            if prot.startswith(acc[:13]):\n",
    "                acc = acc[::-1].replace('.','_',1)[::-1]\n",
    "                count_d['clsC2'][acc] = 1\n",
    "    return count_d\n",
    "count_d = add_clsC2_to_dict()"
   ]
  },
  {
   "cell_type": "code",
   "execution_count": 18,
   "id": "4f32ac83-3360-4f47-a70b-d9913cbd2fa3",
   "metadata": {
    "scrolled": true
   },
   "outputs": [],
   "source": [
    "\n",
    "def flatten_nested(nested_d):\n",
    "    \"\"\"\"\"\"\n",
    "    name_list = []\n",
    "    flattened_d = {acc:[] for acc in [cl.name for cl in tree.get_terminals()]}\n",
    "    for name, d in nested_d.items():\n",
    "        name_list.append(name)\n",
    "        for leaf, count in d.items():\n",
    "            leaf = leaf[:15][::-1].replace('_','.',1)[::-1]\n",
    "            flattened_d[leaf].append(count)\n",
    "    return flattened_d\n",
    "        \n",
    "\n",
    "#######################\n",
    "# change 0 to -1 in 'ACX60_05695', as there is only one UN variant, \n",
    "# we will change all empyty boxes to black or something to denote 'other'\n",
    "\n",
    "#######\n",
    "# for acc in count_d['ACX60_05695']:\n",
    "#     if count_d['ACX60_05695'][acc] == -1:\n",
    "#         count_d['ACX60_05695'][acc] = 0\n",
    "for acc in count_d['ACX60_05080']:\n",
    "    if count_d['ACX60_05080'][acc] == -1:\n",
    "        count_d['ACX60_05080'][acc] = 1\n",
    "\n",
    "flattened_d = flatten_nested(count_d)"
   ]
  },
  {
   "cell_type": "code",
   "execution_count": 19,
   "id": "69e49908-a64b-48ff-a8a3-764c10d08a9d",
   "metadata": {
    "scrolled": true,
    "tags": []
   },
   "outputs": [
    {
     "data": {
      "text/plain": [
       "{'GCF_000046845_1': -1,\n",
       " 'GCF_001682515_1': -1,\n",
       " 'GCF_000413935_1': -1,\n",
       " 'GCF_005281455_1_WP_002052947.1': 1,\n",
       " 'GCF_012931665_1_WP_140968426.1': 1,\n",
       " 'GCF_014858105_1_WP_217486008.1': 1,\n",
       " 'GCF_017753625_1_WP_038347891.1': 1,\n",
       " 'GCF_024749585_1_WP_001199678.1': -1,\n",
       " 'GCF_009833005_1_WP_159142230.1': 1,\n",
       " 'GCF_001693195_1_WP_065718394.1': 1,\n",
       " 'GCF_001721705_1_WP_069370343.1': 1,\n",
       " 'GCF_016654255_2_WP_171502604.1': 1,\n",
       " 'GCF_016506845_1_WP_227559087.1': 1,\n",
       " 'GCF_000580815_1_WP_031964051.1': 1,\n",
       " 'GCF_000581895_1_WP_032060636.1': 1,\n",
       " 'GCF_002014315_1_WP_032068216.1': 1,\n",
       " 'GCF_021726495_1_WP_272900374.1': 1,\n",
       " 'GCF_018863335_1_WP_253199520.1': 1,\n",
       " 'GCF_018863255_1_WP_253204958.1': 1,\n",
       " 'GCF_008124045_1_WP_004840553.1': -1,\n",
       " 'GCF_001693105_1_WP_065709322.1': -1,\n",
       " 'GCF_015571935_1_WP_001199663.1': 1,\n",
       " 'GCF_013787185_1_WP_005138349.1': 1,\n",
       " 'GCF_003948495_1_WP_125507102.1': 1,\n",
       " 'GCF_002136685_1_WP_086262825.1': 1,\n",
       " 'GCF_016508565_1_WP_227551798.1': 1,\n",
       " 'GCF_016508455_1_WP_227561295.1': 1,\n",
       " 'GCF_000369265_1': -1,\n",
       " 'GCF_004354145_1_WP_133237457.1': 1,\n",
       " 'GCF_004354165_1_WP_133238966.1': 1,\n",
       " 'GCF_021729465_1_WP_140951150.1': 1,\n",
       " 'GCF_018863375_1_WP_171526266.1': 1,\n",
       " 'GCF_018883565_1_WP_253206501.1': 1,\n",
       " 'GCF_022460155_2_WP_002070025.1': -1,\n",
       " 'GCF_000297935_1_WP_001199667.1': 1,\n",
       " 'GCF_002136955_1_WP_079548844.1': 1,\n",
       " 'GCF_001648035_1_WP_064479039.1': 1,\n",
       " 'GCF_003057525_1_WP_032027933.1': 1,\n",
       " 'GCF_002142735_1_WP_033851989.1': 1,\n",
       " 'GCF_022467435_1_WP_001199669.1': 1,\n",
       " 'GCF_022605145_1_WP_001199677.1': 1,\n",
       " 'GCF_003994455_1_WP_001199677.1': 1,\n",
       " 'GCF_003231185_1_WP_029424538.1': 1,\n",
       " 'GCF_000369165_1_WP_001199667.1': 1,\n",
       " 'GCF_022466815_1_WP_075400049.1': 1,\n",
       " 'GCF_014672735_1_WP_001199675.1': 1,\n",
       " 'GCF_014926505_1_WP_193330028.1': 1,\n",
       " 'GCF_010500415_1_WP_171523171.1': 1,\n",
       " 'GCF_004354125_1_WP_133224316.1': -1,\n",
       " 'GCF_003007245_1_WP_002046798.1': 1,\n",
       " 'GCF_022937705_1_WP_029424538.1': 1,\n",
       " 'GCF_023499155_1_WP_249667992.1': 1,\n",
       " 'GCF_023499085_1_WP_001199670.1': 1,\n",
       " 'GCF_000505685_1_WP_023896394.1': 1,\n",
       " 'GCF_000335535_1_WP_002046798.1': 1,\n",
       " 'GCF_002145155_1_WP_086377188.1': 1,\n",
       " 'GCF_001261895_2_WP_001199673.1': 1,\n",
       " 'GCF_002148745_1_WP_001199677.1': 1,\n",
       " 'GCF_001891205_1_WP_072617696.1': 1,\n",
       " 'GCF_024749605_1_WP_001199672.1': 1,\n",
       " 'GCF_024589115_1_WP_156995634.1': 1,\n",
       " 'GCF_000304675_1_WP_001199677.1': 1,\n",
       " 'GCF_000368545_1_WP_004840553.1': -1,\n",
       " 'GCF_019903175_1_WP_032000416.1': -1,\n",
       " 'GCF_016654345_2_WP_156190971.1': 1,\n",
       " 'GCF_000453165_1_WP_024433579.1': 1,\n",
       " 'GCF_004153295_1_WP_001199669.1': 1,\n",
       " 'GCF_000731965_1_WP_001199677.1': 1,\n",
       " 'GCF_003939565_1_WP_125267645.1': 1,\n",
       " 'GCF_023896495_1_WP_228305437.1': 1,\n",
       " 'GCF_016506315_1_WP_227556385.1': 1,\n",
       " 'GCF_019703285_1_WP_005138349.1': 1,\n",
       " 'GCF_024749505_1_WP_005138349.1': 1,\n",
       " 'GCF_009740145_1_WP_001199677.1': 1,\n",
       " 'GCF_000682415_1_WP_032045769.1': 1,\n",
       " 'GCF_012515875_1_WP_171526266.1': 1,\n",
       " 'GCF_017349115_1_WP_171502604.1': 1,\n",
       " 'GCF_024749445_1_WP_001199675.1': 1,\n",
       " 'GCF_000297575_1_WP_001199675.1': 1,\n",
       " 'GCF_000305275_1_WP_001199675.1': 1,\n",
       " 'GCF_021460825_1_WP_217486008.1': 1,\n",
       " 'GCF_000580315_1_WP_001199677.1': 1,\n",
       " 'GCF_003948385_1_WP_001199677.1': 1,\n",
       " 'GCF_018135585_1_WP_001199677.1': 1,\n",
       " 'GCF_002573735_1_WP_023896394.1': 1,\n",
       " 'GCF_002138175_1_WP_031976582.1': 1,\n",
       " 'GCF_006491875_1_WP_032037874.1': 1,\n",
       " 'GCF_001864575_1_WP_001199672.1': 1,\n",
       " 'GCF_002145095_1_WP_001199672.1': 1,\n",
       " 'GCF_013394285_1_WP_001199676.1': 1,\n",
       " 'GCF_012931625_1_WP_032000416.1': -1,\n",
       " 'GCF_024749525_1_WP_032000416.1': -1,\n",
       " 'GCF_000584355_1_WP_032018507.1': 1,\n",
       " 'GCF_000611465_1_WP_031965854.1': 1,\n",
       " 'GCF_000588135_1_WP_001199675.1': 1,\n",
       " 'GCF_022369275_1_WP_114154585.1': 1,\n",
       " 'GCF_022937725_1_WP_001199675.1': 1,\n",
       " 'GCF_017939285_1_WP_223155300.1': -1,\n",
       " 'GCF_019076685_1_WP_002058912.1': 1,\n",
       " 'GCF_022342285_1_WP_223234665.1': 1,\n",
       " 'GCF_002902885_1_WP_001199677.1': 1,\n",
       " 'GCF_013416275_1_WP_001199677.1': 1,\n",
       " 'GCF_002573825_1_WP_002126572.1': 1,\n",
       " 'GCF_002573875_1_WP_098728367.1': 1,\n",
       " 'GCF_003522665_1_WP_001199670.1': 1,\n",
       " 'GCF_000746645_1_WP_001199670.1': 1,\n",
       " 'GCF_024749625_1_WP_001199678.1': -1,\n",
       " 'GCF_003431865_1_WP_001199678.1': -1,\n",
       " 'GCF_000814345_1_WP_029424538.1': 1,\n",
       " 'GCF_022459095_1_WP_029424538.1': 1,\n",
       " 'GCF_006494665_1_WP_001199675.1': 1,\n",
       " 'GCF_003970215_1_WP_001199675.1': 1,\n",
       " 'GCF_000369225_1_WP_001199677.1': 1,\n",
       " 'GCF_000309235_1_WP_002126572.1': 1,\n",
       " 'GCF_020810655_1_WP_002046798.1': 1,\n",
       " 'GCF_020271605_1_WP_029424538.1': 1,\n",
       " 'GCF_004194555_1_WP_005138349.1': 1,\n",
       " 'GCF_001863785_1_WP_071226208.1': 1,\n",
       " 'GCF_019903155_1_WP_223082694.1': 1,\n",
       " 'GCF_003812385_1_WP_001199677.1': 1,\n",
       " 'GCF_001077555_2_WP_001199677.1': 1,\n",
       " 'GCF_002142945_1_WP_001199677.1': 1,\n",
       " 'GCF_001432595_1_WP_031975358.1': 1,\n",
       " 'GCF_000584095_1_WP_001199667.1': 1,\n",
       " 'GCF_005280675_1_WP_032025309.1': 1,\n",
       " 'GCF_010499945_1_WP_171522503.1': 1,\n",
       " 'GCF_003231175_1_WP_001199672.1': 1,\n",
       " 'GCF_016117795_1_WP_001199672.1': 1,\n",
       " 'GCF_023371095_1_WP_223234665.1': 1,\n",
       " 'GCF_017349155_1_WP_223234665.1': 1,\n",
       " 'GCF_013377175_1_WP_001199675.1': 1,\n",
       " 'GCF_007107525_1_WP_001199667.1': 1,\n",
       " 'GCF_024205285_1_WP_001199675.1': 1,\n",
       " 'GCF_002143345_1_WP_001199675.1': 1,\n",
       " 'GCF_016635075_1_WP_029424538.1': 1,\n",
       " 'GCF_001693095_1_WP_029424538.1': 1,\n",
       " 'GCF_012931605_1_WP_001199678.1': -1,\n",
       " 'GCF_016654265_1_WP_223155300.1': -1,\n",
       " 'GCF_003812065_1_WP_001199678.1': -1,\n",
       " 'GCF_000368525_1_WP_002126572.1': 1,\n",
       " 'GCF_001077965_2_WP_049590919.1': 1,\n",
       " 'GCF_023896375_1_WP_254005840.1': -1,\n",
       " 'GCF_000584415_1_WP_032033358.1': -1,\n",
       " 'GCF_008802935_1_WP_002046798.1': 1,\n",
       " 'GCF_024139015_1_WP_002046798.1': 1,\n",
       " 'GCF_004564115_1_WP_002046798.1': 1,\n",
       " 'GCF_020982745_1_WP_171502604.1': 1,\n",
       " 'GCF_006492965_1_WP_140982996.1': 1,\n",
       " 'GCF_003948415_1_WP_001199671.1': 1,\n",
       " 'GCF_002727055_2_WP_001199671.1': 1,\n",
       " 'GCF_001895125_2_WP_001199671.1': 1,\n",
       " 'GCF_000335635_1_WP_001199671.1': 1,\n",
       " 'GCF_000314635_1_WP_001199671.1': 1,\n",
       " 'GCF_023981045_1_WP_001199672.1': 1,\n",
       " 'GCF_021460555_1_WP_156191259.1': 1,\n",
       " 'GCF_010500545_1_WP_156191259.1': 1,\n",
       " 'GCF_012974585_1_WP_001199672.1': 1,\n",
       " 'GCF_000805045_1_WP_001199672.1': 1,\n",
       " 'GCF_008709685_1_WP_001199672.1': 1,\n",
       " 'GCF_004758865_1_WP_001199672.1': 1,\n",
       " 'GCF_001077655_1_WP_001199672.1': 1,\n",
       " 'GCF_000369305_1_WP_001199663.1': 1,\n",
       " 'GCF_000413915_1_WP_002046798.1': 1,\n",
       " 'GCF_006494285_1_WP_001199663.1': 1,\n",
       " 'GCF_014169655_1_WP_001199663.1': 1,\n",
       " 'GCF_004028375_1_WP_001199663.1': 1,\n",
       " 'GCF_023004295_1_WP_001199663.1': 1,\n",
       " 'GCF_014672775_1_WP_001199663.1': 1,\n",
       " 'GCA_001077675_1_AKQ26233.1': 1,\n",
       " 'GCA_019356215_1_QXZ49193.1': 0,\n",
       " 'GCF_018221365_1_WP_223155300.1': -1,\n",
       " 'GCF_000453225_1_WP_001199669.1': 1,\n",
       " 'GCF_016506985_1_WP_171519079.1': 1,\n",
       " 'GCF_021484905_1_WP_001199675.1': 1,\n",
       " 'GCF_009428985_1_WP_032068216.1': 1,\n",
       " 'GCF_001399655_1_WP_001199675.1': 1,\n",
       " 'GCF_000770605_1_WP_001199675.1': 1,\n",
       " 'GCF_000021245_2_WP_001199675.1': 1,\n",
       " 'GCF_000069245_1_WP_001199675.1': 1,\n",
       " 'GCF_001612025_1_WP_062936619.1': 1,\n",
       " 'GCF_000759395_1_WP_047481399.1': -1,\n",
       " 'GCF_024138435_1_WP_001199670.1': 1,\n",
       " 'GCF_024173565_1_WP_001199672.1': 1,\n",
       " 'GCF_001077575_1_WP_045543890.1': 1,\n",
       " 'GCF_017724155_1_WP_045543890.1': 1,\n",
       " 'GCF_023517235_1_WP_045543890.1': 1,\n",
       " 'GCF_008801795_1_WP_001199669.1': 1,\n",
       " 'GCF_008632635_1_WP_045543890.1': 1,\n",
       " 'GCF_004912245_1_WP_045543890.1': 1,\n",
       " 'GCF_001693125_1_WP_001199678.1': -1,\n",
       " 'GCF_002573725_1_WP_001199678.1': -1,\n",
       " 'GCF_023360975_1_WP_001199669.1': 1,\n",
       " 'GCF_024732425_1_WP_001199677.1': 1,\n",
       " 'GCF_022342205_1_WP_156187275.1': 1,\n",
       " 'GCF_019457735_1_WP_001199669.1': 1,\n",
       " 'GCF_016654365_1_WP_153227639.1': 1,\n",
       " 'GCF_001518715_1_WP_001199669.1': 1,\n",
       " 'GCF_000498375_2_WP_001199669.1': 1,\n",
       " 'GCF_000018445_1_WP_001199669.1': 1,\n",
       " 'GCF_002573915_1_WP_001199664.1': 1,\n",
       " 'GCF_003948835_1_WP_125541565.1': 1,\n",
       " 'GCF_014322245_1_WP_001199664.1': 1,\n",
       " 'GCF_000583375_1_WP_001199664.1': 1,\n",
       " 'GCF_024749405_1_WP_001199664.1': 1,\n",
       " 'GCF_020982665_1_WP_156190971.1': 1,\n",
       " 'GCF_024749425_1_WP_001199664.1': 1,\n",
       " 'GCF_000368205_1_WP_001199678.1': -1,\n",
       " 'GCF_014159355_1_WP_001199664.1': 1,\n",
       " 'GCF_024589795_1_WP_276578199.1': 1,\n",
       " 'GCF_018831125_1_WP_001199675.1': 1,\n",
       " 'GCF_012934905_1_WP_001199675.1': 1,\n",
       " 'GCF_006843645_1_WP_002046798.1': 1,\n",
       " 'GCF_003431385_1_WP_001199675.1': 1,\n",
       " 'GCF_024749645_1_WP_001199663.1': 1,\n",
       " 'GCF_024749785_1_WP_001199675.1': 1,\n",
       " 'GCF_025264005_1_WP_001199678.1': -1,\n",
       " 'GCF_025456905_1_WP_262124026.1': 1,\n",
       " 'GCF_025457015_1_WP_001199675.1': 1,\n",
       " 'GCF_025515635_1_WP_001199676.1': 1,\n",
       " 'GCF_025717695_1_WP_031996774.1': 1,\n",
       " 'GCF_026062515_1_WP_001199668.1': 1,\n",
       " 'GCF_026153175_1_WP_001199678.1': -1,\n",
       " 'GCF_026189845_2_WP_002058912.1': 1,\n",
       " 'GCF_026273385_1_WP_001199677.1': 1,\n",
       " 'GCF_026273705_1_WP_001199677.1': 1,\n",
       " 'GCF_026273925_1_WP_001199675.1': 1,\n",
       " 'GCF_026675765_1_WP_001199669.1': 1,\n",
       " 'GCF_027257275_1_WP_001199675.1': 1,\n",
       " 'GCF_027257495_1_WP_032068216.1': 1,\n",
       " 'GCF_027257815_1_WP_001199677.1': 1,\n",
       " 'GCF_027558855_1_WP_031961001.1': 1,\n",
       " 'GCF_027854725_1_WP_114225641.1': 1,\n",
       " 'GCF_028402505_1_WP_001199675.1': 1}"
      ]
     },
     "execution_count": 19,
     "metadata": {},
     "output_type": "execute_result"
    }
   ],
   "source": [
    "count_d['ACX60_05695']"
   ]
  },
  {
   "cell_type": "code",
   "execution_count": 77,
   "id": "1b8931ad-caed-48e8-b74b-4a369550c089",
   "metadata": {
    "tags": []
   },
   "outputs": [],
   "source": [
    "diverging_colors = [\n",
    "    # \"#4E79A7\", \"#A0CBE8\", \"#F28E2B\", \"#FFBE7D\", \"#59A14F\",\n",
    "    # \"#8CD17D\", \"#B6992D\", \"#FDCB9E\", \"#499894\", \"#86BCB6\",\n",
    "    \"#E15759\", \"#FF9D9A\", \"#79706E\", \"#BAB0AC\", \"#D37295\",\n",
    "    \"#FABFD2\", \"#B07AA1\", \"#D4A5A5\", \"#F7F7F7\", \"#CCCCCC\",\n",
    "    \"#0072B2\", \"#009E73\", \"#D55E00\", \"#CC79A7\", \"#56B4E9\",\n",
    "    \"#009E73\", \"#F0E442\", \"#0072B2\", \"#D55E00\", \"#CC79A7\",\n",
    "    \"#56B4E9\", \"#009E73\", \"#F0E442\", \"#0072B2\", \"#D55E00\",\n",
    "    \"#CC79A7\", \"#56B4E9\", \"#009E73\", \"#F0E442\", \"#0072B2\",\n",
    "    \"#D55E00\", \"#CC79A7\", \"#56B4E9\", \"#009E73\", \"#F0E442\",\n",
    "    \"#0072B2\", \"#D55E00\", \"#CC79A7\", \"#56B4E9\", \"#009E73\"\n",
    "]\n",
    "\n",
    "colors = [\n",
    "    \"#1f77b4\",  # Blue\n",
    "    \"#ff7f0e\",  # Orange\n",
    "    \"#2ca02c\",  # Green\n",
    "    \"#d62728\",  # Red\n",
    "    \"#9467bd\",  # Purple\n",
    "    \"#8c564b\",  # Brown\n",
    "    \"#17becf\"   # Cyan\n",
    "]\n",
    "\n",
    "\n",
    "itol_annot.make_itol_binary_trait_dataset(\n",
    "            outfile_path = './UN_vs_VU_variants/itol_annotations/itol_binary_traits.txt', \n",
    "            count_dict = flattened_d, \n",
    "            name_list = list(count_d.keys()),\n",
    "            hexcolors=colors)"
   ]
  },
  {
   "cell_type": "code",
   "execution_count": null,
   "id": "3806b6b3-90f1-433c-9b75-9b22684d6ce9",
   "metadata": {
    "scrolled": true,
    "tags": []
   },
   "outputs": [],
   "source": []
  },
  {
   "cell_type": "code",
   "execution_count": 72,
   "id": "3f9fcf9e-0959-4a10-be9e-6179ec8224f3",
   "metadata": {},
   "outputs": [
    {
     "data": {
      "text/plain": [
       "['ACX60_00950',\n",
       " 'ACX60_07925',\n",
       " 'ACX60_05695',\n",
       " 'ACX60_11495',\n",
       " 'ACX60_05080',\n",
       " 'ACX60_10365',\n",
       " 'clsC2']"
      ]
     },
     "execution_count": 72,
     "metadata": {},
     "output_type": "execute_result"
    }
   ],
   "source": [
    "list(count_d.keys())"
   ]
  },
  {
   "cell_type": "code",
   "execution_count": null,
   "id": "6f97a758-1468-40a2-8d3d-e0bca6528a5e",
   "metadata": {},
   "outputs": [],
   "source": []
  }
 ],
 "metadata": {
  "kernelspec": {
   "display_name": "Python 3 (ipykernel)",
   "language": "python",
   "name": "python3"
  },
  "language_info": {
   "codemirror_mode": {
    "name": "ipython",
    "version": 3
   },
   "file_extension": ".py",
   "mimetype": "text/x-python",
   "name": "python",
   "nbconvert_exporter": "python",
   "pygments_lexer": "ipython3",
   "version": "3.11.4"
  }
 },
 "nbformat": 4,
 "nbformat_minor": 5
}
